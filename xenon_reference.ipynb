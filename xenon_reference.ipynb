{
 "cells": [
  {
   "cell_type": "code",
   "execution_count": 1,
   "metadata": {},
   "outputs": [],
   "source": [
    "import datetime\n",
    "import time\n",
    "\n",
    "import matplotlib as mpl\n",
    "import matplotlib.pyplot as plt\n",
    "import matplotlib.patches as patches\n",
    "from mpl_toolkits.axes_grid1 import make_axes_locatable\n",
    "from matplotlib.animation import FuncAnimation\n",
    "mpl.rcParams['font.family'] = 'arial'\n",
    "mpl.rcParams['font.size'] = 14\n",
    "mpl.rcParams['animation.ffmpeg_path'] = 'C:\\\\Users\\\\BrancaLab\\\\Desktop\\\\Yihan\\\\installers\\\\ffmpeg-7.0.1-essentials_build\\\\bin\\\\ffmpeg.exe'\n",
    "from cmap import Colormap\n",
    "\n",
    "import numpy as np\n",
    "import SimpleITK as sitk\n",
    "from scipy.signal import find_peaks, peak_widths\n",
    "from scipy.stats import ttest_ind\n",
    "from skimage.exposure import histogram\n",
    "from skimage.restoration import denoise_bilateral\n",
    "from skimage.filters import gaussian, threshold_otsu, threshold_multiotsu\n",
    "from skimage.morphology import disk, rectangle, ellipse\n",
    "from skimage.morphology import binary_dilation, binary_erosion\n",
    "from skimage.morphology import opening, remove_small_holes, remove_small_objects\n",
    "from skimage.transform import pyramid_expand\n",
    "from skimage.measure import label, regionprops\n",
    "from sklearn.linear_model import LinearRegression\n",
    "\n",
    "from utils import *\n",
    "from hu_utils import *"
   ]
  },
  {
   "cell_type": "code",
   "execution_count": 19,
   "metadata": {},
   "outputs": [],
   "source": [
    "import pydicom as dicom\n",
    "from pydicom.pixel_data_handlers.util import apply_modality_lut\n",
    "\n",
    "base_dir = 'Images\\\\Phantom_for_calibration'\n",
    "dcm = dicom.dcmread(get_scan_paths(base_dir, 'PRE_HIGH')[1])\n",
    "pixel = dcm.pixel_array\n",
    "hu = apply_modality_lut(pixel, dcm)"
   ]
  },
  {
   "cell_type": "code",
   "execution_count": 34,
   "metadata": {},
   "outputs": [],
   "source": [
    "base_dir = 'Images\\\\Phantom_for_calibration'\n",
    "idx_list = np.arange(730)\n",
    "offset = 0  # shift between pre and post xenon slices\n",
    "\n",
    "low_ref_maps = []\n",
    "high_ref_maps = []\n",
    "\n",
    "# trim = [0, 100, 100, 300]  # region of interest\n",
    "trim = None\n",
    "\n",
    "for idx in idx_list:\n",
    "    path_low_ref = get_scan_paths(base_dir, 'PRE_LOW')[idx + offset]\n",
    "    path_high_ref = get_scan_paths(base_dir, 'PRE_HIGH')[idx + offset]\n",
    "    \n",
    "    low_ref_hu = load_hu(path_low_ref, trim)\n",
    "    high_ref_hu = load_hu(path_high_ref, trim)\n",
    "    \n",
    "    low_ref_maps.append(low_ref_hu)\n",
    "    high_ref_maps.append(high_ref_hu)\n",
    "    \n",
    "low_ref_maps = np.array(low_ref_maps)\n",
    "high_ref_maps = np.array(high_ref_maps)"
   ]
  },
  {
   "cell_type": "markdown",
   "metadata": {},
   "source": [
    "# Image segmentation"
   ]
  },
  {
   "cell_type": "code",
   "execution_count": 35,
   "metadata": {},
   "outputs": [],
   "source": [
    "low_ref_filtered_maps = []\n",
    "high_ref_filtered_maps = []\n",
    "\n",
    "for low, high in zip(low_ref_maps, high_ref_maps):\n",
    "    low = denoise_bilateral(low, sigma_color=5, sigma_spatial=2)\n",
    "    high = denoise_bilateral(high, sigma_color=5, sigma_spatial=2)\n",
    "    \n",
    "    low_ref_filtered_maps.append(low)\n",
    "    high_ref_filtered_maps.append(high)\n",
    "    \n",
    "low_ref_filtered_maps = np.array(low_ref_filtered_maps)\n",
    "high_ref_filtered_maps = np.array(high_ref_filtered_maps)"
   ]
  },
  {
   "cell_type": "code",
   "execution_count": 50,
   "metadata": {},
   "outputs": [
    {
     "data": {
      "image/png": "[encoded data removed]",
      "text/plain": [
       "<Figure size 1200x600 with 4 Axes>"
      ]
     },
     "metadata": {},
     "output_type": "display_data"
    }
   ],
   "source": [
    "idx = 220\n",
    "\n",
    "low_ref_sample = low_ref_filtered_maps[idx][20:70, 150:200]\n",
    "high_ref_sample = high_ref_filtered_maps[idx][20:70, 150:200]\n",
    "\n",
    "show_pair((low_ref_sample, high_ref_sample), (-200, 500))"
   ]
  },
  {
   "cell_type": "code",
   "execution_count": 58,
   "metadata": {},
   "outputs": [
    {
     "name": "stdout",
     "output_type": "stream",
     "text": [
      "Xenon @ 140KV: -532.7503276524865\n",
      "Xenon @ 80KV: -395.27986009090847\n"
     ]
    }
   ],
   "source": [
    "from scipy.ndimage import label, find_objects, gaussian_gradient_magnitude\n",
    "\n",
    "def find_xenon_intensity(image, sigma=1, threshold_factor=1.5):\n",
    "    edges = gaussian_gradient_magnitude(image, sigma=sigma) # detect edges\n",
    "    \n",
    "    # Threshold the edges to create a binary mask for the ring\n",
    "    threshold = edges.mean() * threshold_factor\n",
    "    ring_mask = edges > threshold\n",
    "    \n",
    "    # Label connected components in the binary mask\n",
    "    labeled_mask, num_features = label(ring_mask)\n",
    "    regions = find_objects(labeled_mask)\n",
    "    \n",
    "    # Identify the largest region as the center ring\n",
    "    largest_region = max(regions, key=lambda x: (x[0].stop - x[0].start) * (x[1].stop - x[1].start))\n",
    "    \n",
    "    # Create a refined mask for only the center ring\n",
    "    center_ring_mask = np.zeros_like(ring_mask)\n",
    "    center_ring_mask[labeled_mask == labeled_mask[largest_region[0].start, largest_region[1].start]] = 1\n",
    "    \n",
    "    # Apply the refined mask to the original image\n",
    "    center_ring_image = np.zeros_like(image)\n",
    "    center_ring_image[center_ring_mask == 1] = image[center_ring_mask == 1]\n",
    "    \n",
    "    # Calculate the average intensity of the center ring pixels\n",
    "    center_ring_pixels = image[center_ring_mask == 1]\n",
    "    average_intensity = center_ring_pixels.mean()\n",
    "    \n",
    "    return center_ring_pixels, average_intensity\n",
    "\n",
    "_, xenon_intensity_low = find_xenon_intensity(low_ref_sample)\n",
    "_, xenon_intensity_high = find_xenon_intensity(high_ref_sample)\n",
    "\n",
    "print(f'Xenon @ 140KV: {xenon_intensity_high}')\n",
    "print(f'Xenon @ 80KV: {xenon_intensity_low}')"
   ]
  }
 ],
 "metadata": {
  "kernelspec": {
   "display_name": ".venv",
   "language": "python",
   "name": "python3"
  },
  "language_info": {
   "codemirror_mode": {
    "name": "ipython",
    "version": 3
   },
   "file_extension": ".py",
   "mimetype": "text/x-python",
   "name": "python",
   "nbconvert_exporter": "python",
   "pygments_lexer": "ipython3",
   "version": "3.12.3"
  }
 },
 "nbformat": 4,
 "nbformat_minor": 2
}
